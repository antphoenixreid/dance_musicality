{
 "cells": [
  {
   "cell_type": "markdown",
   "metadata": {},
   "source": [
    "# Clean Audio Metric \n",
    "\n",
    "Goal: Use this notebook to measure the methods to clean the dancer's video's audio to compare to the song track they are dancing to."
   ]
  },
  {
   "cell_type": "code",
   "execution_count": 1,
   "metadata": {},
   "outputs": [],
   "source": [
    "# OS Library\n",
    "import os\n",
    "\n",
    "# MoviePy Library\n",
    "from moviepy.editor import *\n",
    "\n",
    "# MatPlotLib\n",
    "import matplotlib.pyplot as plt\n",
    "\n",
    "# Data Reading/Displaying LIbraries\n",
    "import pandas as pd\n",
    "import IPython.display as ipd\n",
    "\n",
    "# Libraries to process the audio\n",
    "import librosa\n",
    "import numpy as np\n",
    "import scipy.signal as signal\n",
    "import scipy.io\n",
    "from scipy.signal import lfilter\n",
    "from scipy.signal import stft, istft\n",
    "from scipy.ndimage import median_filter\n",
    "from sklearn.metrics import mean_squared_error\n",
    "import mir_eval\n",
    "import soundfile as sf"
   ]
  },
  {
   "cell_type": "code",
   "execution_count": 2,
   "metadata": {},
   "outputs": [],
   "source": [
    "def find(ext, path):\n",
    "    for root, dirs, files in os.walk(path):\n",
    "        for file in files:\n",
    "            if file.endswith(ext):\n",
    "                f = os.path.join(root, file)\n",
    "\n",
    "    return f"
   ]
  },
  {
   "cell_type": "code",
   "execution_count": 3,
   "metadata": {},
   "outputs": [
    {
     "name": "stdout",
     "output_type": "stream",
     "text": [
      "MoviePy - Writing audio in ..\\Data\\Red Bull Dance Your Style 2022\\Angyil\\Angyil_clip.mp3\n"
     ]
    },
    {
     "name": "stderr",
     "output_type": "stream",
     "text": [
      "                                                                     \r"
     ]
    },
    {
     "name": "stdout",
     "output_type": "stream",
     "text": [
      "MoviePy - Done.\n",
      "MoviePy - Writing audio in ..\\Data\\Red Bull Dance Your Style 2022\\Flexx\\Flexx_clip.mp3\n"
     ]
    },
    {
     "name": "stderr",
     "output_type": "stream",
     "text": [
      "                                                                     \r"
     ]
    },
    {
     "name": "stdout",
     "output_type": "stream",
     "text": [
      "MoviePy - Done.\n",
      "MoviePy - Writing audio in ..\\Data\\Red Bull Dance Your Style 2022\\King Davinci\\King Davinci_clip.mp3\n"
     ]
    },
    {
     "name": "stderr",
     "output_type": "stream",
     "text": [
      "                                                                     \r"
     ]
    },
    {
     "name": "stdout",
     "output_type": "stream",
     "text": [
      "MoviePy - Done.\n",
      "MoviePy - Writing audio in ..\\Data\\Red Bull Dance Your Style 2022\\Luwan\\Luwan_clip.mp3\n"
     ]
    },
    {
     "name": "stderr",
     "output_type": "stream",
     "text": [
      "                                                                     \r"
     ]
    },
    {
     "name": "stdout",
     "output_type": "stream",
     "text": [
      "MoviePy - Done.\n",
      "MoviePy - Writing audio in ..\\Data\\Red Bull Dance Your Style 2022\\Mickey\\Mickey_clip.mp3\n"
     ]
    },
    {
     "name": "stderr",
     "output_type": "stream",
     "text": [
      "                                                                     \r"
     ]
    },
    {
     "name": "stdout",
     "output_type": "stream",
     "text": [
      "MoviePy - Done.\n",
      "MoviePy - Writing audio in ..\\Data\\Red Bull Dance Your Style 2022\\Pop.Korn\\Pop.Korn_clip.mp3\n"
     ]
    },
    {
     "name": "stderr",
     "output_type": "stream",
     "text": [
      "                                                                     \r"
     ]
    },
    {
     "name": "stdout",
     "output_type": "stream",
     "text": [
      "MoviePy - Done.\n",
      "MoviePy - Writing audio in ..\\Data\\Red Bull Dance Your Style 2022\\Sara\\Sara_clip.mp3\n"
     ]
    },
    {
     "name": "stderr",
     "output_type": "stream",
     "text": [
      "                                                                     \r"
     ]
    },
    {
     "name": "stdout",
     "output_type": "stream",
     "text": [
      "MoviePy - Done.\n",
      "MoviePy - Writing audio in ..\\Data\\Red Bull Dance Your Style 2022\\The Crown\\The Crown_clip.mp3\n"
     ]
    },
    {
     "name": "stderr",
     "output_type": "stream",
     "text": [
      "                                                                     \r"
     ]
    },
    {
     "name": "stdout",
     "output_type": "stream",
     "text": [
      "MoviePy - Done.\n",
      "MoviePy - Writing audio in ..\\Data\\Red Bull Dance Your Style 2022\\The D Soraki\\The D Soraki_clip.mp3\n"
     ]
    },
    {
     "name": "stderr",
     "output_type": "stream",
     "text": [
      "                                                                     \r"
     ]
    },
    {
     "name": "stdout",
     "output_type": "stream",
     "text": [
      "MoviePy - Done.\n",
      "MoviePy - Writing audio in ..\\Data\\Red Bull Dance Your Style 2022\\Yoe\\Yoe_clip.mp3\n"
     ]
    },
    {
     "name": "stderr",
     "output_type": "stream",
     "text": [
      "                                                                     "
     ]
    },
    {
     "name": "stdout",
     "output_type": "stream",
     "text": [
      "MoviePy - Done.\n"
     ]
    },
    {
     "name": "stderr",
     "output_type": "stream",
     "text": [
      "\r"
     ]
    }
   ],
   "source": [
    "# Convert each video audio to mp3\n",
    "rbdys_dir = os.path.join('..', 'Data', 'Red Bull Dance Your Style 2022')\n",
    "sub_dirs = [sub_dir[0] for sub_dir in os.walk(rbdys_dir)]\n",
    "sub_dirs.remove(rbdys_dir)\n",
    "\n",
    "for dir in sub_dirs:\n",
    "    clip = find('.mp4', dir)\n",
    "    video_clip = VideoFileClip(clip)\n",
    "    audio = video_clip.audio\n",
    "\n",
    "    base, ext = os.path.splitext(clip)\n",
    "    new_file = base + '.mp3'\n",
    "    audio_file = os.path.join(new_file)\n",
    "    audio.write_audiofile(audio_file)\n",
    "\n",
    "    video_clip.close()\n",
    "    audio.close()"
   ]
  },
  {
   "cell_type": "code",
   "execution_count": 11,
   "metadata": {},
   "outputs": [],
   "source": [
    "# Save the Spectrogram data for analysis (original video audio and song audio)\n",
    "for dir in sub_dirs:\n",
    "    for root, dirs, files in os.walk(dir):\n",
    "        for file in files:\n",
    "            if file.endswith('.mp3'):\n",
    "                audio_file = os.path.join(root, file)\n",
    "                x, Fs = librosa.load(audio_file)\n",
    "\n",
    "                if len(x.shape) == 2:\n",
    "                    x = librosa.to_mono(x)\n",
    "\n",
    "                N = 4096\n",
    "                H = 1024\n",
    "                L = x.shape[0]\n",
    "                X = librosa.stft(x, n_fft=N, hop_length=H, win_length=N,\n",
    "                     window='hann', pad_mode='constant', center=True)\n",
    "                \n",
    "                base, ext = os.path.splitext(audio_file)\n",
    "                data_file = base + '.mat'\n",
    "                scipy.io.savemat(data_file, {'time': x,\n",
    "                                             'sample freq': Fs,\n",
    "                                             'spectrogram': X,\n",
    "                                             'N': N,\n",
    "                                             'H': H,\n",
    "                                             'L': L})"
   ]
  },
  {
   "cell_type": "code",
   "execution_count": 6,
   "metadata": {},
   "outputs": [],
   "source": [
    "def dtw(main_audio, compared_audio, sr, hop_length):\n",
    "    # Extract Mel-Frequency cepstral coefficients (MFCC)\n",
    "    mfcc_orig = librosa.feature.mfcc(y=main_audio, sr=sr, n_mfcc=13)\n",
    "    mfcc_comp = librosa.feature.mfcc(y=compared_audio, sr=sr, n_mfcc=13)\n",
    "\n",
    "    # Compute the DTW\n",
    "    D, wp = librosa.sequence.dtw(X=mfcc_orig, Y=mfcc_comp, metric='cosine')\n",
    "\n",
    "    # Extract the matching point\n",
    "    matching_points = np.array(wp)\n",
    "\n",
    "    # Find the best matching point\n",
    "    min_distance_index = np.argmin(D[-1])\n",
    "    start_index_in_video = matching_points[min_distance_index, 1]\n",
    "    start_time_in_video = start_index_in_video * hop_length / sr\n",
    "    \n",
    "    return start_time_in_video"
   ]
  },
  {
   "cell_type": "code",
   "execution_count": 15,
   "metadata": {},
   "outputs": [
    {
     "name": "stdout",
     "output_type": "stream",
     "text": [
      "(1, 1280003)\n",
      "..\\Data\\Red Bull Dance Your Style 2022\\Angyil\n",
      "The song starts at approximately 0.00 seconds in the video.\n",
      "(1, 1280003)\n",
      "..\\Data\\Red Bull Dance Your Style 2022\\Flexx\n",
      "The song starts at approximately 0.00 seconds in the video.\n",
      "(1, 1280003)\n",
      "..\\Data\\Red Bull Dance Your Style 2022\\King Davinci\n",
      "The song starts at approximately 126.41 seconds in the video.\n",
      "(1, 1676682)\n",
      "..\\Data\\Red Bull Dance Your Style 2022\\Luwan\n",
      "The song starts at approximately 99.75 seconds in the video.\n",
      "(1, 1103603)\n",
      "..\\Data\\Red Bull Dance Your Style 2022\\Mickey\n",
      "The song starts at approximately 99.10 seconds in the video.\n",
      "(1, 1147482)\n",
      "..\\Data\\Red Bull Dance Your Style 2022\\Pop.Korn\n",
      "The song starts at approximately 75.88 seconds in the video.\n",
      "(1, 1213632)\n",
      "..\\Data\\Red Bull Dance Your Style 2022\\Sara\n",
      "The song starts at approximately 125.20 seconds in the video.\n",
      "(1, 1522332)\n",
      "..\\Data\\Red Bull Dance Your Style 2022\\The Crown\n",
      "The song starts at approximately 91.90 seconds in the video.\n",
      "(1, 1125432)\n",
      "..\\Data\\Red Bull Dance Your Style 2022\\The D Soraki\n",
      "The song starts at approximately 144.75 seconds in the video.\n",
      "(1, 1610532)\n",
      "..\\Data\\Red Bull Dance Your Style 2022\\Yoe\n",
      "The song starts at approximately 106.07 seconds in the video.\n"
     ]
    }
   ],
   "source": [
    "# Load .mat files\n",
    "for dir in sub_dirs:\n",
    "    for root, dirs, files in os.walk(dir):\n",
    "        for file in files:\n",
    "            if file.endswith('.mat'):\n",
    "                if '_clip' in file:\n",
    "                    video_data_file = os.path.join(root, file)\n",
    "                    video_data = scipy.io.loadmat(video_data_file)\n",
    "                else:\n",
    "                    song_data_file = os.path.join(root, file)\n",
    "                    song_data = scipy.io.loadmat(video_data_file)\n",
    "\n",
    "        # Compare video audio to song audio\n",
    "        video_data_time = video_data['time']\n",
    "        if video_data_time.ndim == 2 and video_data_time.shape[0] == 1:\n",
    "            video_data_time = video_data_time.flatten()\n",
    "        video_data_Fs = video_data['sample freq']\n",
    "        video_data_spec = video_data['spectrogram']\n",
    "        video_data_N = video_data['N']\n",
    "        video_data_L = video_data['L']\n",
    "        video_data_H = video_data['H']\n",
    "\n",
    "        song_data_time = song_data['time']\n",
    "        print(song_data_time.shape)\n",
    "        if song_data_time.ndim == 2 and song_data_time.shape[0] == 1:\n",
    "            song_data_time = song_data_time.flatten()\n",
    "        song_data_Fs = song_data['sample freq']\n",
    "        song_data_spec = song_data['spectrogram']\n",
    "        song_data_N = song_data['N']\n",
    "        song_data_L = song_data['L']\n",
    "        song_data_H = song_data['H']\n",
    "\n",
    "        # Use DTW to get exact clip and duration to use for the song audio\n",
    "        song_timestamp = dtw(song_data_time, video_data_time, song_data_Fs, song_data_H)\n",
    "        print(dir)\n",
    "        print(f\"The song starts at approximately {song_timestamp[0][0]:.2f} seconds in the video.\")\n",
    "\n",
    "\n",
    "        # # Ensure both signals are the same length\n",
    "        # min_length = min(len(song_data_time), len(video_data_time))\n",
    "        # song_data_time = song_data_time[:min_length]\n",
    "        # video_data_time = video_data_time[:min_length]\n",
    "\n",
    "        # # Compute SNR\n",
    "        # signal_power = np.mean(song_data_time**2)\n",
    "        # noise_power = np.mean((song_data_time - video_data_time)**2)\n",
    "\n",
    "        # snr = 10*np.log10(signal_power/noise_power)\n",
    "\n",
    "        # # Compute SDR, SIR, and SAR\n",
    "        # sdr, sir, sar, _ = mir_eval.separation.bss_eval_sources(\n",
    "        #     np.array([song_data_time]), np.array([video_data_time])\n",
    "        # )\n",
    "\n",
    "        # # Calculate RMSE\n",
    "        # rmse = np.sqrt(mean_squared_error(song_data_time, video_data_time))\n",
    "\n",
    "        # print(dir)\n",
    "        # print(f\"SNR: {snr:.2f} dB\")\n",
    "        # print(f\"SDR: {sdr[0]:.2f} dB\")\n",
    "        # print(f\"SIR: {sir[0]:.2f} dB\")\n",
    "        # print(f\"SAR: {sar[0]:.2f} dB\")\n",
    "        # print(f\"RMSE: {rmse:.2f}\")\n",
    "        # print('\\t\\t')"
   ]
  },
  {
   "cell_type": "code",
   "execution_count": null,
   "metadata": {},
   "outputs": [],
   "source": []
  }
 ],
 "metadata": {
  "kernelspec": {
   "display_name": "mir",
   "language": "python",
   "name": "python3"
  },
  "language_info": {
   "codemirror_mode": {
    "name": "ipython",
    "version": 3
   },
   "file_extension": ".py",
   "mimetype": "text/x-python",
   "name": "python",
   "nbconvert_exporter": "python",
   "pygments_lexer": "ipython3",
   "version": "3.7.16"
  }
 },
 "nbformat": 4,
 "nbformat_minor": 2
}
